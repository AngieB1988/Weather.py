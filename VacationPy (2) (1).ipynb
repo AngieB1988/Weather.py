{
 "cells": [
  {
   "cell_type": "markdown",
   "metadata": {},
   "source": [
    "# VacationPy\n",
    "----\n",
    "\n",
    "#### Note\n",
    "* Keep an eye on your API usage. Use https://developers.google.com/maps/reporting/gmp-reporting as reference for how to monitor your usage and billing.\n",
    "\n",
    "* Instructions have been included for each segment. You do not have to follow them exactly, but they are included to help you think through the steps."
   ]
  },
  {
   "cell_type": "code",
   "execution_count": 1,
   "metadata": {},
   "outputs": [],
   "source": [
    "# Dependencies and Setup\n",
    "import matplotlib.pyplot as plt\n",
    "import pandas as pd\n",
    "import numpy as np\n",
    "import requests\n",
    "import gmaps\n",
    "import os\n",
    "# Import API key\n",
    "from api_keys import g_key\n",
    "# Output File (CSV)\n",
    "output_data_file = \"C:\\\\Users\\\\Angiescomputer\\\\Desktop\\\\WeatherHome\\\\cities.csv\""
   ]
  },
  {
   "cell_type": "markdown",
   "metadata": {},
   "source": [
    "### Store Part I results into DataFrame\n",
    "* Load the csv exported in Part I to a DataFrame"
   ]
  },
  {
   "cell_type": "code",
   "execution_count": 4,
   "metadata": {},
   "outputs": [
    {
     "name": "stdout",
     "output_type": "stream",
     "text": [
      "   City_ID       City  Cloudiness Country        Date  Humidity    Lat  \\\n",
      "0        0  ostrovnoy           2      RU  1558378754        72  68.05   \n",
      "1        1  mahebourg          75      MU  1558378503        74 -20.41   \n",
      "2        2    qaanaaq          25      GL  1558378755        73  77.48   \n",
      "3        3     zhuhai           0      CN  1558378755        39  40.71   \n",
      "4        4  cape town          20      ZA  1558378755        76 -33.93   \n",
      "\n",
      "      Lng  Max Temp  Wind Speed  \n",
      "0   39.51     37.50        7.16  \n",
      "1   57.70     78.80       11.41  \n",
      "2  -69.36     22.20        2.37  \n",
      "3  112.04     44.60        4.47  \n",
      "4   18.42     55.99        8.05  \n"
     ]
    }
   ],
   "source": [
    "data = pd.read_csv(\"C:\\\\Users\\\\Angiescomputer\\\\Desktop\\\\WeatherHome\\\\cities.csv\")\n",
    "cities_dataframe = pd.read_csv(\"C:\\\\Users\\\\Angiescomputer\\\\Desktop\\\\WeatherHome\\\\cities.csv\")\n",
    "print (cities_dataframe.head())\n"
   ]
  },
  {
   "cell_type": "markdown",
   "metadata": {},
   "source": [
    "### Humidity Heatmap\n",
    "* Configure gmaps.\n",
    "* Use the Lat and Lng as locations and Humidity as the weight.\n",
    "* Add Heatmap layer to map."
   ]
  },
  {
   "cell_type": "code",
   "execution_count": 6,
   "metadata": {},
   "outputs": [
    {
     "data": {
      "application/vnd.jupyter.widget-view+json": {
       "model_id": "1b9173b78d34436494aa881faadfef02",
       "version_major": 2,
       "version_minor": 0
      },
      "text/plain": [
       "Figure(layout=FigureLayout(height='420px'))"
      ]
     },
     "metadata": {},
     "output_type": "display_data"
    }
   ],
   "source": [
    "# Configure gmaps with API key.\n",
    "gmaps.configure(api_key=g_key)\n",
    "\n",
    "locations =cities_dataframe[[\"Lat\", \"Lng\"]]\n",
    "# locations\n",
    "\n",
    "humidity =cities_dataframe[\"Humidity\"].astype(float)\n",
    "\n",
    "fig = gmaps.figure()\n",
    "\n",
    "heatmap_layer = gmaps.heatmap_layer(locations, weights=humidity,\n",
    "                                   dissipating=False, max_intensity=5,\n",
    "                                   point_radius=1)\n",
    "\n",
    "fig.add_layer(heatmap_layer)\n",
    "\n",
    "fig"
   ]
  },
  {
   "cell_type": "markdown",
   "metadata": {},
   "source": [
    "### Create new DataFrame fitting weather criteria\n",
    "* Narrow down the cities to fit weather conditions.\n",
    "* Drop any rows will null values."
   ]
  },
  {
   "cell_type": "code",
   "execution_count": 9,
   "metadata": {},
   "outputs": [
    {
     "name": "stdout",
     "output_type": "stream",
     "text": [
      "            City  Max Temp  Wind Speed  Cloudiness\n",
      "0      ostrovnoy     37.50        7.16           2\n",
      "1      mahebourg     78.80       11.41          75\n",
      "2        qaanaaq     22.20        2.37          25\n",
      "3         zhuhai     44.60        4.47           0\n",
      "4      cape town     55.99        8.05          20\n",
      "..           ...       ...         ...         ...\n",
      "543       yabrud     80.60        8.05           0\n",
      "544      paraiso     84.20       16.11           5\n",
      "545      veraval     61.00        8.05           0\n",
      "546  novyy urgal     49.74        2.68         100\n",
      "547      tongren     55.86        2.84           4\n",
      "\n",
      "[548 rows x 4 columns]\n"
     ]
    }
   ],
   "source": [
    "new_types_df = pd.DataFrame(cities_dataframe, columns = [\"City\", \"Max Temp\", \"Wind Speed\", \"Cloudiness\"])\n",
    "\n",
    "max_temp = (new_types_df[\"Max Temp\"] <= 80) & (new_types_df[\"Max Temp\"] > 70)\n",
    "wind_speed = new_types_df[\"Wind Speed\"] < 10\n",
    "cloudiness = new_types_df[\"Cloudiness\"] == 0\n",
    "\n",
    "# new_types_df[max_temp & wind_speed & cloudiness]\n",
    "new_types_df[max_temp & wind_speed & cloudiness]\n",
    "print (new_types_df)"
   ]
  },
  {
   "cell_type": "markdown",
   "metadata": {},
   "source": [
    "### Hotel Map\n",
    "* Store into variable named `hotel_df`.\n",
    "* Add a \"Hotel Name\" column to the DataFrame.\n",
    "* Set parameters to search for hotels with 5000 meters.\n",
    "* Hit the Google Places API for each city's coordinates.\n",
    "* Store the first Hotel result into the DataFrame.\n",
    "* Plot markers on top of the heatmap."
   ]
  },
  {
   "cell_type": "code",
   "execution_count": 10,
   "metadata": {},
   "outputs": [
    {
     "name": "stdout",
     "output_type": "stream",
     "text": [
      "     City_ID         City  Cloudiness Country        Date  Humidity    Lat  \\\n",
      "0          0    ostrovnoy           2      RU  1558378754        72  68.05   \n",
      "1          1    mahebourg          75      MU  1558378503        74 -20.41   \n",
      "2          2      qaanaaq          25      GL  1558378755        73  77.48   \n",
      "3          3       zhuhai           0      CN  1558378755        39  40.71   \n",
      "4          4    cape town          20      ZA  1558378755        76 -33.93   \n",
      "..       ...          ...         ...     ...         ...       ...    ...   \n",
      "543      543       yabrud           0      SY  1558378840        32  33.97   \n",
      "544      544      paraiso           5      MX  1558378898         4  24.01   \n",
      "545      545      veraval           0      FR  1558378898        62  49.65   \n",
      "546      546  novyy urgal         100      RU  1558378899        93  51.07   \n",
      "547      547      tongren           4      CN  1558378899        64  27.72   \n",
      "\n",
      "        Lng  Max Temp  Wind Speed Hotel Name  \n",
      "0     39.51     37.50        7.16             \n",
      "1     57.70     78.80       11.41             \n",
      "2    -69.36     22.20        2.37             \n",
      "3    112.04     44.60        4.47             \n",
      "4     18.42     55.99        8.05             \n",
      "..      ...       ...         ...        ...  \n",
      "543   36.66     80.60        8.05             \n",
      "544 -104.61     84.20       16.11             \n",
      "545    0.71     61.00        8.05             \n",
      "546  132.56     49.74        2.68             \n",
      "547  109.18     55.86        2.84             \n",
      "\n",
      "[548 rows x 11 columns]\n"
     ]
    }
   ],
   "source": [
    "hotel_df = cities_dataframe\n",
    "\n",
    "hotel_df[\"Hotel Name\"] = \"\"\n",
    "# hotel_df[\"Coordinates\"]=\"\"\n",
    "print (hotel_df)"
   ]
  },
  {
   "cell_type": "code",
   "execution_count": null,
   "metadata": {},
   "outputs": [],
   "source": []
  },
  {
   "cell_type": "code",
   "execution_count": null,
   "metadata": {},
   "outputs": [],
   "source": [
    "# NOTE: Do not change any of the code in this cell\n",
    "\n",
    "# Using the template add the hotel marks to the heatmap\n",
    "info_box_template = \"\"\"\n",
    "<dl>\n",
    "<dt>Name</dt><dd>{Hotel Name}</dd>\n",
    "<dt>City</dt><dd>{City}</dd>\n",
    "<dt>Country</dt><dd>{Country}</dd>\n",
    "</dl>\n",
    "\"\"\"\n",
    "# Store the DataFrame Row\n",
    "# NOTE: be sure to update with your DataFrame name\n",
    "hotel_info = [info_box_template.format(**row) for index, row in hotel_df.iterrows()]\n",
    "locations = hotel_df[[\"Lat\", \"Lng\"]]"
   ]
  },
  {
   "cell_type": "code",
   "execution_count": 11,
   "metadata": {},
   "outputs": [
    {
     "data": {
      "application/vnd.jupyter.widget-view+json": {
       "model_id": "64eea0db40ae456e9df6580f20ba7091",
       "version_major": 2,
       "version_minor": 0
      },
      "text/plain": [
       "Figure(layout=FigureLayout(height='420px'))"
      ]
     },
     "metadata": {},
     "output_type": "display_data"
    }
   ],
   "source": [
    "markers = gmaps.marker_layer(locations)\n",
    "fig.add_layer(markers)\n",
    "fig\n"
   ]
  },
  {
   "cell_type": "code",
   "execution_count": null,
   "metadata": {},
   "outputs": [],
   "source": []
  }
 ],
 "metadata": {
  "kernelspec": {
   "display_name": "Python 3 (ipykernel)",
   "language": "python",
   "name": "python3"
  },
  "language_info": {
   "codemirror_mode": {
    "name": "ipython",
    "version": 3
   },
   "file_extension": ".py",
   "mimetype": "text/x-python",
   "name": "python",
   "nbconvert_exporter": "python",
   "pygments_lexer": "ipython3",
   "version": "3.9.7"
  },
  "latex_envs": {
   "LaTeX_envs_menu_present": true,
   "autoclose": false,
   "autocomplete": true,
   "bibliofile": "biblio.bib",
   "cite_by": "apalike",
   "current_citInitial": 1,
   "eqLabelWithNumbers": true,
   "eqNumInitial": 1,
   "hotkeys": {
    "equation": "Ctrl-E",
    "itemize": "Ctrl-I"
   },
   "labels_anchors": false,
   "latex_user_defs": false,
   "report_style_numbering": false,
   "user_envs_cfg": false
  }
 },
 "nbformat": 4,
 "nbformat_minor": 4
}
